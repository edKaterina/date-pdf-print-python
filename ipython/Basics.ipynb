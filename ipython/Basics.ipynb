{
 "metadata": {
  "language_info": {
   "codemirror_mode": {
    "name": "ipython",
    "version": 3
   },
   "file_extension": ".py",
   "mimetype": "text/x-python",
   "name": "python",
   "nbconvert_exporter": "python",
   "pygments_lexer": "ipython3",
   "version": "3.7.9-final"
  },
  "orig_nbformat": 2,
  "kernelspec": {
   "name": "python3",
   "display_name": "Python 3"
  }
 },
 "nbformat": 4,
 "nbformat_minor": 2,
 "cells": [
  {
   "cell_type": "code",
   "execution_count": 90,
   "metadata": {},
   "outputs": [],
   "source": [
    "# Работа с изображениями и текстом\n",
    "\n",
    "from PIL import Image, ImageDraw, ImageFont\n",
    "\n",
    "out = Image.new(\"RGB\", (150, 100), (255, 255, 255))\n",
    "d = ImageDraw.Draw(out)\n",
    "d.line([0,0, 80,80], fill=128)\n",
    "d.multiline_text((10,10), \"Hello\\nWorld\", font=d.getfont(), fill=(0, 200, 0))\n",
    "out.save('newImage.png', 'png')"
   ]
  },
  {
   "cell_type": "code",
   "execution_count": 10,
   "metadata": {
    "tags": []
   },
   "outputs": [],
   "source": [
    "# Загрузка окра, запускать при смене документа.  \n",
    "\n",
    "import urllib3\n",
    "import json\n",
    "\n",
    "import config\n",
    "\n",
    "http = urllib3.PoolManager()\n",
    "r = http.request('GET', config.ocr_href)\n",
    "ocrData = r.data.decode('utf-8')\n",
    "f = open('./tmp/ocrData.csv', 'w')\n",
    "f.write(ocrData)\n",
    "f.close()"
   ]
  },
  {
   "source": [
    "# Обновление файла с картинкой документа (очистка всего что нарисовалось локально).  \n",
    "\n",
    "import urllib3\n",
    "\n",
    "import config\n",
    "\n",
    "http = urllib3.PoolManager()\n",
    "r = http.request('GET', config.image_href)\n",
    "f = open(config.image_name, 'wb')\n",
    "f.write(r.data)\n",
    "f.close()\n"
   ],
   "cell_type": "code",
   "metadata": {},
   "execution_count": 11,
   "outputs": []
  },
  {
   "source": [
    "import numpy as np\n",
    "import pandas as pn\n",
    "import math\n",
    "from PIL import Image, ImageDraw, ImageFont\n",
    "\n",
    "import config\n",
    "\n",
    "ocr = pn.read_csv('./tmp/ocrData.csv')\n",
    "\n",
    "# Точка начала базиса.  \n",
    "\n",
    "one_point = ocr.query(\"text == 'Указания'\")\n",
    "\n",
    "# Вспомогательные вектора (в принципе достаточно одного, для масштабирования использую А, второй для быстрой замены при тестах).  \n",
    "\n",
    "a_point = frameOcr.query(\"text == 'Прием'\")\n",
    "b_point = frameOcr.query(\"text == 'Сдача'\")\n",
    "\n",
    "\n",
    "with Image.open(\"test.png\") as doc_image:\n",
    "\n",
    "    draw = ImageDraw.Draw(doc_image)\n",
    "    basis = config.basis\n",
    "    ofset_x = one_point.iloc[0]['left']\n",
    "    ofset_y = one_point.iloc[0]['top']\n",
    "\n",
    "    # Определение коэффициента масштабирования.  \n",
    "    scale_x = (b_point.left - ofsetX) / basis['B']['x']\n",
    "    scale_y = (b_point.top - ofsetY) / basis['B']['y']\n",
    "\n",
    "    # Координаты точки начала   \n",
    "    basis_position = [ofset_x, ofset_y]\n",
    "    \n",
    "    for point in basis:\n",
    "        vector = basis[point]\n",
    "        vector = [\n",
    "            vector['x'] * scale_x + ofset_x,\n",
    "            vector['y'] * scale_y + ofset_y\n",
    "        ]\n",
    "        draw.line(basis_position + vector, fill=128, width=10)\n",
    "\n",
    "\n",
    "    doc_image.save(\"test.png\", \"PNG\")"
   ],
   "cell_type": "code",
   "metadata": {},
   "execution_count": 12,
   "outputs": []
  },
  {
   "cell_type": "code",
   "execution_count": null,
   "metadata": {},
   "outputs": [],
   "source": []
  },
  {
   "cell_type": "code",
   "execution_count": null,
   "metadata": {},
   "outputs": [],
   "source": []
  }
 ]
}