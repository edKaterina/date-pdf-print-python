{
 "metadata": {
  "language_info": {
   "codemirror_mode": {
    "name": "ipython",
    "version": 3
   },
   "file_extension": ".py",
   "mimetype": "text/x-python",
   "name": "python",
   "nbconvert_exporter": "python",
   "pygments_lexer": "ipython3",
   "version": "3.7.9-final"
  },
  "orig_nbformat": 2,
  "kernelspec": {
   "name": "python3",
   "display_name": "Python 3"
  }
 },
 "nbformat": 4,
 "nbformat_minor": 2,
 "cells": [
  {
   "cell_type": "code",
   "execution_count": 90,
   "metadata": {},
   "outputs": [],
   "source": [
    "# работа с изображениями и текстом, пропустить\n",
    "from PIL import Image, ImageDraw, ImageFont\n",
    "\n",
    "# create an image\n",
    "out = Image.new(\"RGB\", (150, 100), (255, 255, 255))\n",
    "\n",
    "# get a font\n",
    "# get a drawing context\n",
    "d = ImageDraw.Draw(out)\n",
    "d.line([0,0, 80,80], fill=128)\n",
    "# draw multiline text\n",
    "d.multiline_text((10,10), \"Hello\\nWorld\", font=d.getfont(), fill=(0, 200, 0))\n",
    "out.save('newImage.png', 'png')"
   ]
  },
  {
   "cell_type": "code",
   "execution_count": 2,
   "metadata": {
    "tags": []
   },
   "outputs": [],
   "source": [
    "#загрузка окра, при смене документа запускать\n",
    "import urllib3\n",
    "import json\n",
    "import config\n",
    "http = urllib3.PoolManager()\n",
    "r = http.request('GET', config.ocr_href)\n",
    "ocrData = r.data.decode('utf-8')\n",
    "f = open('./tmp/ocrData.csv', 'w')\n",
    "f.write(ocrData)\n",
    "f.close()"
   ]
  },
  {
   "source": [
    "# обновление файла с картинкой (очистка всего что нарисовалось локально)\n",
    "import urllib3\n",
    "import config\n",
    "http = urllib3.PoolManager()\n",
    "r = http.request('GET', config.image_href)\n",
    "f = open(config.image_name, 'wb')\n",
    "f.write(r.data)\n",
    "f.close()\n"
   ],
   "cell_type": "code",
   "metadata": {},
   "execution_count": 1,
   "outputs": []
  },
  {
   "source": [
    "import numpy as np\n",
    "import pandas as pn\n",
    "import config\n",
    "import math\n",
    "from PIL import Image, ImageDraw, ImageFont\n",
    "\n",
    "frameOcr = pn.read_csv('./tmp/ocrData.csv')\n",
    "# точка начала базиса\n",
    "OnePoint = frameOcr.query(\"text == 'Указания'\")\n",
    "# вспомогательные вектора (в принципе достаточно одного, для масштабирования, использую А)\n",
    "APoint = frameOcr.query(\"text == 'Прием'\")\n",
    "BPoint = frameOcr.query(\"text == 'Сдача'\")\n",
    "\n",
    "\n",
    "with Image.open(\"test.png\") as docImage:\n",
    "\n",
    "    draw = ImageDraw.Draw(docImage)\n",
    "    basis = config.basis\n",
    "    ofsetX = OnePoint.iloc[0]['left']\n",
    "    ofsetY = OnePoint.iloc[0]['top']\n",
    "    # scale\n",
    "    documentScaleX = (BPoint.left - ofsetX) / basis['B']['x']\n",
    "    documentScaleY = (BPoint.top - ofsetY) / basis['B']['y']\n",
    "    # point coords    \n",
    "    BasisPosition = [ofsetX, ofsetY]\n",
    "    \n",
    "    for point in basis:\n",
    "        vector = basis[point]\n",
    "        vector = [vector['x'] * documentScaleX + ofsetX, vector['y'] * documentScaleY + ofsetY]\n",
    "        draw.line(BasisPosition + vector, fill=128, width=10)\n",
    "    docImage.save(\"test.png\", \"PNG\")"
   ],
   "cell_type": "code",
   "metadata": {},
   "execution_count": 3,
   "outputs": []
  },
  {
   "cell_type": "code",
   "execution_count": null,
   "metadata": {},
   "outputs": [],
   "source": []
  }
 ]
}